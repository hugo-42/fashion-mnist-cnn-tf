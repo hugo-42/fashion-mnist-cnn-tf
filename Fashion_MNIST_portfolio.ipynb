{
 "cells": [
  {
   "cell_type": "markdown",
   "id": "a90eb680",
   "metadata": {},
   "source": [
    "# Fashion‑MNIST — CNN (Notebook Portfolio)\n",
    "\n",
    "**Objectif.** Classifier les images du dataset **Fashion‑MNIST** (10 classes, 28×28 niveaux de gris) avec un petit réseau de neurones convolutionnel.\n",
    "\n",
    "**Jeu de données.** `tensorflow.keras.datasets.fashion_mnist` — train/test déjà fournis, normalisation en 0–1.\n",
    "\n",
    "**Modèle (exemple).**\n",
    "- Conv → ReLU → MaxPool ×2, Dropout\n",
    "- Densely connected (FC) → Softmax (10 classes)\n",
    "- Optimiseur (ex. Adam), fonction de perte `sparse_categorical_crossentropy`\n",
    "\n",
    "**Résultats (à titre indicatif).**\n",
    "- Accuracy validation ~ **91%**\n",
    "- Accuracy test ~ **90%**\n",
    "> Remplace XX/YY selon tes dernières exécutions.\n",
    "\n",
    "**Exécuter.**\n",
    "- **GitHub** : ouvrir ce notebook et parcourir les cellules.\n",
    "- **Local** : `pip install -r requirements.txt` puis `jupyter notebook`.\n",
    "- **Colab** : bouton “Open in Colab” dans le README du repo.\n",
    "\n",
    "**Reproductibilité (conseil).**\n",
    "Ajoute si besoin un bloc “seed” avant l’entraînement :\n",
    "```python\n",
    "import numpy as np, tensorflow as tf, random, os\n",
    "seed = 42\n",
    "np.random.seed(seed); tf.random.set_seed(seed); random.seed(seed)\n",
    "os.environ['PYTHONHASHSEED'] = str(seed)\n",
    "```\n",
    "\n",
    "**Licence.** MIT.\n"
   ]
  },
  {
   "cell_type": "code",
   "execution_count": null,
   "id": "8d726fa1",
   "metadata": {},
   "outputs": [],
   "source": [
    "import numpy as np\n",
    "import matplotlib.pyplot as plt\n",
    "import tensorflow as tf\n",
    "from tensorflow.keras import Sequential\n",
    "from tensorflow.keras.layers import Dense, Dropout\n",
    "from tensorflow.keras.utils import to_categorical\n",
    "from tensorflow.keras.datasets import fashion_mnist\n",
    "from sklearn.metrics import confusion_matrix\n"
   ]
  },
  {
   "cell_type": "code",
   "execution_count": null,
   "id": "66c2bb72",
   "metadata": {},
   "outputs": [],
   "source": [
    "(x_train, y_train), (x_test, y_test) = fashion_mnist.load_data()\n",
    "\n",
    "x_train = (x_train/255.0).astype(\"float32\").reshape((-1, 28*28))\n",
    "x_test  = (x_test/255.0).astype(\"float32\").reshape((-1, 28*28))\n",
    "\n",
    "y_train = to_categorical(y_train, 10)\n",
    "y_test  = to_categorical(y_test, 10)\n"
   ]
  },
  {
   "cell_type": "code",
   "execution_count": null,
   "id": "bbd9251b",
   "metadata": {},
   "outputs": [],
   "source": [
    "model = Sequential([\n",
    "    Dense(256, activation=\"relu\", input_shape=(784,)),\n",
    "    Dropout(0.2),\n",
    "    Dense(128, activation=\"relu\"),\n",
    "    Dropout(0.2),\n",
    "    Dense(10, activation=\"softmax\"),\n",
    "])\n",
    "\n",
    "model.compile(optimizer=\"adam\", loss=\"categorical_crossentropy\", metrics=[\"accuracy\"])\n"
   ]
  },
  {
   "cell_type": "code",
   "execution_count": null,
   "id": "bf09038b",
   "metadata": {},
   "outputs": [],
   "source": [
    "history = model.fit(\n",
    "    x_train, y_train,\n",
    "    validation_split=0.1,\n",
    "    epochs=5,\n",
    "    batch_size=256,\n",
    "    verbose=1\n",
    ")\n"
   ]
  },
  {
   "cell_type": "code",
   "execution_count": null,
   "id": "9b5abcad",
   "metadata": {},
   "outputs": [],
   "source": [
    "loss, acc = model.evaluate(x_test, y_test, verbose=0)\n",
    "print(\"Test accuracy:\", round(acc, 3))\n"
   ]
  },
  {
   "cell_type": "code",
   "execution_count": null,
   "id": "07f9f0e6",
   "metadata": {},
   "outputs": [],
   "source": [
    "y_pred_probs = model.predict(x_test, verbose=0)\n",
    "y_pred = y_pred_probs.argmax(axis=1)\n",
    "\n",
    "cm = confusion_matrix(y_test.argmax(axis=1), y_pred)\n",
    "\n",
    "plt.figure(figsize=(6,6))\n",
    "plt.imshow(cm, cmap=\"Blues\")\n",
    "plt.title(\"Confusion Matrix\")\n",
    "plt.colorbar()\n",
    "plt.show()\n",
    "\n",
    "wrong = np.where(y_pred != y_test.argmax(axis=1))[0][:9]\n",
    "plt.figure(figsize=(6,6))\n",
    "for i, j in enumerate(wrong):\n",
    "    plt.subplot(3,3,i+1)\n",
    "    plt.imshow(x_test[j].reshape(28,28), cmap=\"gray\")\n",
    "    plt.title(f\"True {y_test[j].argmax()} vs Pred {y_pred[j]}\")\n",
    "    plt.axis(\"off\")\n",
    "plt.tight_layout()\n",
    "plt.show()\n"
   ]
  }
 ],
 "metadata": {},
 "nbformat": 4,
 "nbformat_minor": 5
}
